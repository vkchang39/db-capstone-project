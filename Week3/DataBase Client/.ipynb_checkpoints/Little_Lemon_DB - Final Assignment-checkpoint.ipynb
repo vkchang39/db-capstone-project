{
 "cells": [
  {
   "cell_type": "markdown",
   "id": "cc922cc6",
   "metadata": {},
   "source": [
    "# Section 1: Setting UP DB\n"
   ]
  },
  {
   "cell_type": "code",
   "execution_count": 1,
   "id": "cde9053b",
   "metadata": {},
   "outputs": [],
   "source": [
    "#Import librarys\n",
    "import mysql.connector as connector"
   ]
  },
  {
   "cell_type": "code",
   "execution_count": 2,
   "id": "577e6ebc",
   "metadata": {},
   "outputs": [],
   "source": [
    "#Creating a connection\n",
    "connection=connector.connect(user=\"root\", password=\"M@lagua1\", port=3306, host=\"localhost\")"
   ]
  },
  {
   "cell_type": "code",
   "execution_count": 3,
   "id": "837e787d",
   "metadata": {},
   "outputs": [],
   "source": [
    "cursor=connection.cursor()"
   ]
  },
  {
   "cell_type": "code",
   "execution_count": 4,
   "id": "2eaf3920",
   "metadata": {},
   "outputs": [
    {
     "name": "stdout",
     "output_type": "stream",
     "text": [
      "('information_schema',)\n",
      "('little_lemon',)\n",
      "('mysql',)\n",
      "('performance_schema',)\n",
      "('sys',)\n"
     ]
    }
   ],
   "source": [
    "cursor.execute(\"show databases;\")\n",
    "result=cursor.fetchall()\n",
    "for r in result:\n",
    "    print(r)"
   ]
  },
  {
   "cell_type": "code",
   "execution_count": 5,
   "id": "19b0bec8",
   "metadata": {},
   "outputs": [
    {
     "name": "stdout",
     "output_type": "stream",
     "text": [
      "Cursor is connecting to 'little_lemon_db' database.\n"
     ]
    }
   ],
   "source": [
    "#Creating the Database\n",
    "create_db=\"\"\"create database if not exists little_lemon_db;\"\"\"\n",
    "use_db=\"\"\"use little_lemon_db\"\"\"\n",
    "cursor.execute(create_db)\n",
    "cursor.execute(use_db)\n",
    "print(f\"Cursor is connecting to '{connection.database}' database.\")"
   ]
  },
  {
   "cell_type": "code",
   "execution_count": 7,
   "id": "1de018cd",
   "metadata": {},
   "outputs": [],
   "source": [
    "#Create tables\n",
    "create_menuitem_table = \"\"\"CREATE TABLE MenuItems (\n",
    "ItemID INT AUTO_INCREMENT,\n",
    "Name VARCHAR(200),\n",
    "Type VARCHAR(100),\n",
    "Price INT,\n",
    "PRIMARY KEY (ItemID)\n",
    ");\"\"\"\n",
    "\n",
    "create_menu_table = \"\"\"CREATE TABLE Menus (\n",
    "MenuID INT,\n",
    "ItemID INT,\n",
    "Cuisine VARCHAR(100),\n",
    "PRIMARY KEY (MenuID,ItemID)\n",
    ");\"\"\"\n",
    "\n",
    "create_booking_table = \"\"\"CREATE TABLE Bookings (\n",
    "BookingID INT AUTO_INCREMENT,\n",
    "TableNo INT,\n",
    "GuestFirstName VARCHAR(100) NOT NULL,\n",
    "GuestLastName VARCHAR(100) NOT NULL,\n",
    "BookingSlot TIME NOT NULL,\n",
    "EmployeeID INT,\n",
    "PRIMARY KEY (BookingID)\n",
    ");\"\"\"\n",
    "\n",
    "create_orders_table = \"\"\"CREATE TABLE Orders (\n",
    "OrderID INT,\n",
    "TableNo INT,\n",
    "MenuID INT,\n",
    "BookingID INT,\n",
    "BillAmount INT,\n",
    "Quantity INT,\n",
    "PRIMARY KEY (OrderID,TableNo)\n",
    ");\"\"\"\n",
    "\n",
    "create_employees_table = \"\"\"CREATE TABLE Employees (\n",
    "EmployeeID INT AUTO_INCREMENT PRIMARY KEY,\n",
    "Name VARCHAR (100),\n",
    "Role VARCHAR (100),\n",
    "Address VARCHAR (200),\n",
    "Contact_Number INT,\n",
    "Email VARCHAR (100),\n",
    "Annual_Salary VARCHAR (100)\n",
    ");\"\"\""
   ]
  },
  {
   "cell_type": "code",
   "execution_count": 8,
   "id": "2f7cc68e",
   "metadata": {},
   "outputs": [],
   "source": [
    "#create table menuitem\n",
    "cursor.execute(create_menuitem_table)\n",
    "\n",
    "#create table menu\n",
    "cursor.execute(create_menu_table)\n",
    "\n",
    "#create table booking\n",
    "cursor.execute(create_booking_table)\n",
    "\n",
    "#create table orders\n",
    "cursor.execute(create_orders_table)\n",
    "\n",
    "#create table employees\n",
    "cursor.execute(create_employees_table)"
   ]
  },
  {
   "cell_type": "code",
   "execution_count": 9,
   "id": "eebfad28",
   "metadata": {},
   "outputs": [],
   "source": [
    "#Insert Data\n",
    "#*******************************************************#\n",
    "# Insert query to populate \"MenuItems\" table:\n",
    "#*******************************************************#\n",
    "insert_menuitems=\"\"\"\n",
    "INSERT INTO MenuItems (ItemID, Name, Type, Price)\n",
    "VALUES\n",
    "(1, 'Olives','Starters',5),\n",
    "(2, 'Flatbread','Starters', 5),\n",
    "(3, 'Minestrone', 'Starters', 8),\n",
    "(4, 'Tomato bread','Starters', 8),\n",
    "(5, 'Falafel', 'Starters', 7),\n",
    "(6, 'Hummus', 'Starters', 5),\n",
    "(7, 'Greek salad', 'Main Courses', 15),\n",
    "(8, 'Bean soup', 'Main Courses', 12),\n",
    "(9, 'Pizza', 'Main Courses', 15),\n",
    "(10, 'Greek yoghurt','Desserts', 7),\n",
    "(11, 'Ice cream', 'Desserts', 6),\n",
    "(12, 'Cheesecake', 'Desserts', 4),\n",
    "(13, 'Athens White wine', 'Drinks', 25),\n",
    "(14, 'Corfu Red Wine', 'Drinks', 30),\n",
    "(15, 'Turkish Coffee', 'Drinks', 10),\n",
    "(16, 'Turkish Coffee', 'Drinks', 10),\n",
    "(17, 'Kabasa', 'Main Courses', 17);\"\"\"\n",
    "\n",
    "#*******************************************************#\n",
    "# Insert query to populate \"Menu\" table:\n",
    "#*******************************************************#\n",
    "insert_menu=\"\"\"\n",
    "INSERT INTO Menus (MenuID,ItemID,Cuisine)\n",
    "VALUES\n",
    "(1, 1, 'Greek'),\n",
    "(1, 7, 'Greek'),\n",
    "(1, 10, 'Greek'),\n",
    "(1, 13, 'Greek'),\n",
    "(2, 3, 'Italian'),\n",
    "(2, 9, 'Italian'),\n",
    "(2, 12, 'Italian'),\n",
    "(2, 15, 'Italian'),\n",
    "(3, 5, 'Turkish'),\n",
    "(3, 17, 'Turkish'),\n",
    "(3, 11, 'Turkish'),\n",
    "(3, 16, 'Turkish');\"\"\"\n",
    "\n",
    "#*******************************************************#\n",
    "# Insert query to populate \"Bookings\" table:\n",
    "#*******************************************************#\n",
    "insert_bookings=\"\"\"\n",
    "INSERT INTO Bookings (BookingID, TableNo, GuestFirstName, \n",
    "GuestLastName, BookingSlot, EmployeeID)\n",
    "VALUES\n",
    "(1, 12, 'Anna','Iversen','19:00:00',1),\n",
    "(2, 12, 'Joakim', 'Iversen', '19:00:00', 1),\n",
    "(3, 19, 'Vanessa', 'McCarthy', '15:00:00', 3),\n",
    "(4, 15, 'Marcos', 'Romero', '17:30:00', 4),\n",
    "(5, 5, 'Hiroki', 'Yamane', '18:30:00', 2),\n",
    "(6, 8, 'Diana', 'Pinto', '20:00:00', 5);\"\"\"\n",
    "\n",
    "#*******************************************************#\n",
    "# Insert query to populate \"Orders\" table:\n",
    "#*******************************************************#\n",
    "insert_orders=\"\"\"\n",
    "INSERT INTO Orders (OrderID, TableNo, MenuID, BookingID, Quantity, BillAmount)\n",
    "VALUES\n",
    "(1, 12, 1, 1, 2, 86),\n",
    "(2, 19, 2, 2, 1, 37),\n",
    "(3, 15, 2, 3, 1, 37),\n",
    "(4, 5, 3, 4, 1, 40),\n",
    "(5, 8, 1, 5, 1, 43);\"\"\"\n",
    "\n",
    "#*******************************************************#\n",
    "# Insert query to populate \"Employees\" table:\n",
    "#*******************************************************#\n",
    "insert_employees = \"\"\"\n",
    "INSERT INTO employees (EmployeeID, Name, Role, Address, Contact_Number, Email, Annual_Salary)\n",
    "VALUES\n",
    "(01,'Mario Gollini','Manager','724, Parsley Lane, Old Town, Chicago, IL',351258074,'Mario.g@littlelemon.com','$70,000'),\n",
    "(02,'Adrian Gollini','Assistant Manager','334, Dill Square, Lincoln Park, Chicago, IL',351474048,'Adrian.g@littlelemon.com','$65,000'),\n",
    "(03,'Giorgos Dioudis','Head Chef','879 Sage Street, West Loop, Chicago, IL',351970582,'Giorgos.d@littlelemon.com','$50,000'),\n",
    "(04,'Fatma Kaya','Assistant Chef','132  Bay Lane, Chicago, IL',351963569,'Fatma.k@littlelemon.com','$45,000'),\n",
    "(05,'Elena Salvai','Head Waiter','989 Thyme Square, EdgeWater, Chicago, IL',351074198,'Elena.s@littlelemon.com','$40,000'),\n",
    "(06,'John Millar','Receptionist','245 Dill Square, Lincoln Park, Chicago, IL',351584508,'John.m@littlelemon.com','$35,000');\"\"\"\n"
   ]
  },
  {
   "cell_type": "code",
   "execution_count": 10,
   "id": "e851a380",
   "metadata": {},
   "outputs": [],
   "source": [
    "#Populate menuitems table\n",
    "cursor.execute(insert_menuitems)\n",
    "connection.commit()\n",
    "\n",
    "#Populate menus table\n",
    "cursor.execute(insert_menu)\n",
    "connection.commit()\n",
    "\n",
    "#Populate bookings\n",
    "cursor.execute(insert_bookings)\n",
    "connection.commit()\n",
    "\n",
    "#Populate orders table\n",
    "cursor.execute(insert_orders)\n",
    "connection.commit()\n",
    "\n",
    "#Populate Employees table\n",
    "cursor.execute(insert_employees)\n",
    "connection.commit()"
   ]
  },
  {
   "cell_type": "markdown",
   "id": "e6c81ea0",
   "metadata": {},
   "source": [
    "## Creatintg a Connection Pool and Stored Procedures"
   ]
  },
  {
   "cell_type": "code",
   "execution_count": 11,
   "id": "604382a6",
   "metadata": {},
   "outputs": [],
   "source": [
    "from mysql.connector.pooling import MySQLConnectionPool\n",
    "from mysql.connector import Error"
   ]
  },
  {
   "cell_type": "code",
   "execution_count": 12,
   "id": "98267cef",
   "metadata": {},
   "outputs": [],
   "source": [
    "dbconfig={\"database\":\"little_lemon_db\",\n",
    "         \"user\":\"root\",\n",
    "         \"password\":\"M@lagua1\"}"
   ]
  },
  {
   "cell_type": "code",
   "execution_count": 13,
   "id": "ee8dd74f",
   "metadata": {},
   "outputs": [
    {
     "name": "stdout",
     "output_type": "stream",
     "text": [
      "The connection pool is created with a name:  pool_a\n",
      "The pool size is: 2\n"
     ]
    }
   ],
   "source": [
    "try:\n",
    "    pool=MySQLConnectionPool(pool_name=\"pool_a\",\n",
    "                            pool_size=2,\n",
    "                            **dbconfig)\n",
    "    print(\"The connection pool is created with a name: \", pool.pool_name)\n",
    "    print(\"The pool size is:\", pool.pool_size)\n",
    "except Error as er:\n",
    "    print(\"Error code:\", er.errno)\n",
    "    print(\"Error message:\", er.msg)"
   ]
  },
  {
   "cell_type": "markdown",
   "id": "b5243392",
   "metadata": {},
   "source": [
    "###  Implement a stored procedure called PeakHours"
   ]
  },
  {
   "cell_type": "code",
   "execution_count": 14,
   "id": "6abdd989",
   "metadata": {},
   "outputs": [],
   "source": [
    "procedure1=\"\"\" CREATE PROCEDURE PeakHours()\n",
    "BEGIN\n",
    "select concat(hour(Bookingslot), \":\",minute(BookingSlot)) as Hour, count(BookingID) as NroOfBookings\n",
    "from bookings\n",
    "group by concat(hour(Bookingslot), \":\",minute(BookingSlot))\n",
    "order by count(BookingID) desc;\n",
    "END\n",
    "\"\"\""
   ]
  },
  {
   "cell_type": "code",
   "execution_count": 15,
   "id": "0700d03b",
   "metadata": {},
   "outputs": [
    {
     "data": {
      "text/plain": [
       "()"
      ]
     },
     "execution_count": 15,
     "metadata": {},
     "output_type": "execute_result"
    }
   ],
   "source": [
    "cursor.execute(procedure1)\n",
    "cursor.callproc(\"PeakHours\")"
   ]
  },
  {
   "cell_type": "code",
   "execution_count": 16,
   "id": "24098b84",
   "metadata": {},
   "outputs": [
    {
     "name": "stdout",
     "output_type": "stream",
     "text": [
      "('Hour', 'NroOfBookings')\n",
      "('19:0', 2)\n",
      "('15:0', 1)\n",
      "('17:30', 1)\n",
      "('18:30', 1)\n",
      "('20:0', 1)\n"
     ]
    }
   ],
   "source": [
    "results=next(cursor.stored_results())\n",
    "dataset=results.fetchall()\n",
    "print(results.column_names)\n",
    "for data in dataset:\n",
    "    print(data)"
   ]
  },
  {
   "cell_type": "markdown",
   "id": "3499f5d6",
   "metadata": {},
   "source": [
    "### Implement a stored procedure GuestStatus"
   ]
  },
  {
   "cell_type": "code",
   "execution_count": 17,
   "id": "3fdb6532",
   "metadata": {},
   "outputs": [],
   "source": [
    "procedure2=\"\"\"CREATE PROCEDURE GuestStatus()\n",
    "BEGIN\n",
    "select concat(a.guestfirstname,\" \", a.guestlastname) as GuestFullName, \n",
    "CASE\n",
    "when b.Role in (\"Manager\", \"Assistant Manager\") then \"Ready to pay\"\n",
    "when b.Role in (\"Head Chef\") then \"Ready to serve\"\n",
    "when b.Role in (\"Assistant Chef\") then \"Preparing Order\"\n",
    "when b.Role in (\"Head Waiter\") then \"Order served\"\n",
    "else \"Order is null\"\n",
    "END as Guest_Status\n",
    "from bookings as a\n",
    "left join employees as b\n",
    "on a.EmployeeID = b.EmployeeID;\n",
    "END\n",
    "\"\"\""
   ]
  },
  {
   "cell_type": "code",
   "execution_count": 18,
   "id": "892868bc",
   "metadata": {},
   "outputs": [
    {
     "data": {
      "text/plain": [
       "()"
      ]
     },
     "execution_count": 18,
     "metadata": {},
     "output_type": "execute_result"
    }
   ],
   "source": [
    "cursor.execute(procedure2)\n",
    "cursor.callproc(\"GuestStatus\")"
   ]
  },
  {
   "cell_type": "code",
   "execution_count": 19,
   "id": "86715cdd",
   "metadata": {},
   "outputs": [
    {
     "name": "stdout",
     "output_type": "stream",
     "text": [
      "('GuestFullName', 'Guest_Status')\n",
      "('Anna Iversen', 'Ready to pay')\n",
      "('Joakim Iversen', 'Ready to pay')\n",
      "('Vanessa McCarthy', 'Ready to serve')\n",
      "('Marcos Romero', 'Preparing Order')\n",
      "('Hiroki Yamane', 'Ready to pay')\n",
      "('Diana Pinto', 'Order served')\n"
     ]
    }
   ],
   "source": [
    "results=next(cursor.stored_results())\n",
    "dataset=results.fetchall()\n",
    "print(results.column_names)\n",
    "for data in dataset:\n",
    "    print(data)"
   ]
  },
  {
   "cell_type": "code",
   "execution_count": 20,
   "id": "1dc0524c",
   "metadata": {},
   "outputs": [],
   "source": [
    "cursor.close()\n",
    "connection.close()"
   ]
  },
  {
   "cell_type": "markdown",
   "id": "5d16186d",
   "metadata": {},
   "source": [
    "# SECTION 2: SALES REPORT"
   ]
  },
  {
   "cell_type": "markdown",
   "id": "585a6369",
   "metadata": {},
   "source": [
    "### Task 1"
   ]
  },
  {
   "cell_type": "code",
   "execution_count": 21,
   "id": "e0e1b62e",
   "metadata": {},
   "outputs": [],
   "source": [
    "from mysql.connector.pooling import MySQLConnectionPool\n",
    "from mysql.connector import Error"
   ]
  },
  {
   "cell_type": "code",
   "execution_count": 32,
   "id": "d28083ed",
   "metadata": {},
   "outputs": [],
   "source": [
    "connection=connector.connect(user=\"root\", password=\"M@lagua1\", port=3306, host=\"localhost\")\n",
    "cursor=connection.cursor()\n",
    "cursor.execute(\"use little_lemon_db;\")"
   ]
  },
  {
   "cell_type": "code",
   "execution_count": 22,
   "id": "ecbceea9",
   "metadata": {},
   "outputs": [],
   "source": [
    "dbconfig={\"database\":\"little_lemon_db\",\n",
    "         \"user\":\"root\",\n",
    "         \"password\":\"M@lagua1\"}"
   ]
  },
  {
   "cell_type": "code",
   "execution_count": 23,
   "id": "72ecce17",
   "metadata": {},
   "outputs": [
    {
     "name": "stdout",
     "output_type": "stream",
     "text": [
      "The connection pool is created with a name:  pool_b\n",
      "The pool size is: 2\n"
     ]
    }
   ],
   "source": [
    "try:\n",
    "    pool=MySQLConnectionPool(pool_name=\"pool_b\",\n",
    "                            pool_size=2,\n",
    "                            **dbconfig)\n",
    "    print(\"The connection pool is created with a name: \", pool.pool_name)\n",
    "    print(\"The pool size is:\", pool.pool_size)\n",
    "except Error as er:\n",
    "    print(\"Error code:\", er.errno)\n",
    "    print(\"Error message:\", er.msg)"
   ]
  },
  {
   "cell_type": "markdown",
   "id": "38268424",
   "metadata": {},
   "source": [
    "### Task 2"
   ]
  },
  {
   "cell_type": "code",
   "execution_count": 24,
   "id": "c7602c7c",
   "metadata": {},
   "outputs": [
    {
     "name": "stdout",
     "output_type": "stream",
     "text": [
      "A new connection is added to the pool\n"
     ]
    }
   ],
   "source": [
    "# Adding new data and connections to the DB\n",
    "try:\n",
    "    connection1=pool.get_connection()\n",
    "    connection2=pool.get_connection()\n",
    "    \n",
    "    #Insert data for guest1\n",
    "    cursor1=connection1.cursor()\n",
    "    query1=\"\"\"INSERT INTO bookings (TableNo, guestFirstName, GuestLastName, BookingSlot, EmployeeID)\n",
    "    VALUES\n",
    "    (8, \"Anees\", \"Java\", \"18:00\", 6);\"\"\"\n",
    "    cursor1.execute(query1)\n",
    "    connection1.commit()\n",
    "\n",
    "    #Insert Data for guest2\n",
    "    cursor2=connection2.cursor()\n",
    "    query2=\"\"\"INSERT INTO bookings (TableNo, guestFirstName, GuestLastName, BookingSlot, EmployeeID)\n",
    "    VALUES\n",
    "    (5, \"Bald\", \"Vin\", \"19:00\", 6);\"\"\"\n",
    "    cursor2.execute(query2)\n",
    "    connection2.commit()\n",
    "    \n",
    "    try:\n",
    "        #create a new connection\n",
    "        connection3=connector.connect(user=\"root\", password=\"M@lagua1\", port=3306, host=\"localhost\")\n",
    "        #Add connection to the pool\n",
    "        pool.add_connection(cnx=connection3)\n",
    "        print(\"A new connection is added to the pool\")\n",
    "        cursor3=connection3.cursor()\n",
    "        cursor3.execute(\"\"\"use little_lemon_db\"\"\")\n",
    "        query3=\"\"\"INSERT INTO bookings (TableNo, guestFirstName, GuestLastName, BookingSlot, EmployeeID)\n",
    "        VALUES\n",
    "        (12, \"Jay\", \"Kon\", \"19:30\", 6);\"\"\"\n",
    "        cursor3.execute(query3)\n",
    "        connection3.commit()\n",
    "        cursor3.close()\n",
    "        connection3.close()\n",
    "    except Error as e:\n",
    "        print(\"Error ocurred:\",e)\n",
    "    \n",
    "    cursor1.close()\n",
    "    cursor2.close()\n",
    "    connection1.close()\n",
    "    connection2.close\n",
    "        \n",
    "except Error as e:\n",
    "    print(\"An error ocurred:\", e)"
   ]
  },
  {
   "cell_type": "markdown",
   "id": "320cff9f",
   "metadata": {},
   "source": [
    "### Create a report containing the following information:\n",
    "\n",
    "The name and EmployeeID of the Little Lemon manager.\n",
    "\n",
    "The name and role of the employee who receives the highest salary.\n",
    "\n",
    "The number of guests booked between 18:00 and 20:00.\n",
    "\n",
    "The full name and BookingID of all guests waiting to be seated with the receptionist in sorted order with respect to their BookingSlot."
   ]
  },
  {
   "cell_type": "code",
   "execution_count": 27,
   "id": "c76a5a2e",
   "metadata": {},
   "outputs": [
    {
     "name": "stdout",
     "output_type": "stream",
     "text": [
      "REPORT\n",
      "--------------------\n",
      "The Manager of the Little Lemon is Mario Gollini.\n",
      "The employee who receives the highest salary is Mario Gollini and his role is Manager.\n",
      "The number of guests booked betwen 18:00 and 20:00 are 7.\n",
      "Waiting Guests:\n",
      "FullName: Anees Java and the Booking ID id 7.\n",
      "FullName: Bald Vin and the Booking ID id 8.\n",
      "FullName: Jay Kon and the Booking ID id 9.\n",
      "--------------------\n"
     ]
    }
   ],
   "source": [
    "Lemon_Manager=\"\"\"select Name from employees where Role = 'Manager';\"\"\"\n",
    "highest_salary=\"\"\"select Name, Role from employees order by Annual_Salary desc limit 1;\"\"\"\n",
    "nro_guest=\"\"\"select count(BookingID) from bookings where BookingSlot between '18:00' and '20:00';\"\"\"\n",
    "waiting_seated=\"\"\"select concat(a.GuestFirstName, \" \", a.GuestLastName) as FullName, a.BookingID from bookings as a \n",
    "left join employees as b\n",
    "on a.EmployeeID = b.EmployeeID\n",
    "where b.Role = \"Receptionist\"\n",
    "order by BookingSlot asc;\"\"\"\n",
    "\n",
    "cursor.execute(Lemon_Manager)\n",
    "result_Manager=cursor.fetchone()\n",
    "\n",
    "cursor.execute(highest_salary)\n",
    "result_salary=cursor.fetchone()\n",
    "Name, Role = result_salary\n",
    "\n",
    "cursor.execute(nro_guest)\n",
    "result_guest=cursor.fetchone()\n",
    "\n",
    "cursor.execute(waiting_seated)\n",
    "result_waiting=cursor.fetchall()\n",
    "\n",
    "print(\"REPORT\")\n",
    "print(\"-\"*20)\n",
    "print(f\"The Manager of the Little Lemon is {result_Manager[0]}.\")\n",
    "print(f\"The employee who receives the highest salary is {Name} and his role is {Role}.\")\n",
    "print(f\"The number of guests booked betwen 18:00 and 20:00 are {result_guest[0]}.\")\n",
    "print(\"Waiting Guests:\")\n",
    "for r in result_waiting:\n",
    "    guest, Booking_id=r\n",
    "    print(f\"FullName: {guest} and the Booking ID id {Booking_id}.\")\n",
    "print(\"-\"*20)"
   ]
  },
  {
   "cell_type": "markdown",
   "id": "cf40e4a9",
   "metadata": {},
   "source": [
    "### Create a stored procedure named BasicSalesReport that returns the following statistics: \n",
    "\n",
    "Total sales\n",
    "\n",
    "Average sale\n",
    "\n",
    "Minimum bill paid\n",
    "\n",
    "Maximum bill paid"
   ]
  },
  {
   "cell_type": "code",
   "execution_count": 34,
   "id": "c2bcc23f",
   "metadata": {},
   "outputs": [
    {
     "data": {
      "text/plain": [
       "()"
      ]
     },
     "execution_count": 34,
     "metadata": {},
     "output_type": "execute_result"
    }
   ],
   "source": [
    "procedure1=\"\"\"CREATE PROCEDURE BasicSalesReport()\n",
    "BEGIN\n",
    "select sum(BillAmount) as Total_sale,\n",
    "avg(BillAmount) as Average_sale, \n",
    "min(BillAmount) as Min_Bill_paid,\n",
    "max(BillAmount) as Max_Bill_paid\n",
    "from orders;\n",
    "END\n",
    "\"\"\"\n",
    "cursor.execute(procedure1)\n",
    "cursor.callproc(\"BasicSalesReport\")"
   ]
  },
  {
   "cell_type": "code",
   "execution_count": 35,
   "id": "2aab7902",
   "metadata": {},
   "outputs": [
    {
     "name": "stdout",
     "output_type": "stream",
     "text": [
      "Total Sales: 243\n",
      "Average Sale: 48.6000\n",
      "Minimum Bill: 37\n",
      "Maximum Bill: 86\n"
     ]
    }
   ],
   "source": [
    "results=next(cursor.stored_results())\n",
    "dataset=results.fetchall()\n",
    "columnas=results.column_names\n",
    "for data in dataset:\n",
    "    print(f\"Total Sales: {data[0]}\")\n",
    "    print(f\"Average Sale: {data[1]}\")\n",
    "    print(f\"Minimum Bill: {data[2]}\")\n",
    "    print(f\"Maximum Bill: {data[3]}\")\n",
    "    \n",
    "# Close the connection\n",
    "cursor.close()\n",
    "connection.close()"
   ]
  },
  {
   "cell_type": "markdown",
   "id": "5b88aa12",
   "metadata": {},
   "source": [
    "### Little Lemon needs to display the next three upcoming bookings from the Bookings table on the kitchen screen to notify their chefs which orders are due next. To complete this task, carry out the following steps:\n",
    "\n",
    "Get a connection from the pool.\n",
    "\n",
    "Create a buffered cursor.\n",
    "\n",
    "Combine the data from the Bookings and the Employee tables. Sort the retrieved records in ascending order. Then display the information of the first three guests. \n",
    "\n",
    "Returned the connection back to the pool.\n",
    "\n",
    "\n",
    "The output should be as follows:\n",
    "\n",
    "[BookingSlot]\n",
    "\n",
    "[Guest_name]\n",
    "\n",
    "[Assigned to: Employee Name [Employee Role]]"
   ]
  },
  {
   "cell_type": "code",
   "execution_count": 36,
   "id": "64d39025",
   "metadata": {},
   "outputs": [],
   "source": [
    "connection=pool.get_connection()\n",
    "cursor=connection.cursor(buffered=True)"
   ]
  },
  {
   "cell_type": "code",
   "execution_count": 37,
   "id": "5134c43e",
   "metadata": {},
   "outputs": [],
   "source": [
    "query4=\"\"\"select a.BookingSlot, concat(a.GuestFirstName,\" \", a.GuestLastName) as Guest_Name, b.Name, b.Role \n",
    "from bookings as a \n",
    "left join employees as b\n",
    "on a.EmployeeID = b.EmployeeID\n",
    "order by a.BookingSlot asc\n",
    "limit 3;\"\"\""
   ]
  },
  {
   "cell_type": "code",
   "execution_count": 38,
   "id": "89ca9e16",
   "metadata": {},
   "outputs": [
    {
     "name": "stdout",
     "output_type": "stream",
     "text": [
      "[15:00:00]\n",
      "[Vanessa McCarthy]\n",
      "Assigned to: Giorgos Dioudis [Head Chef]\n",
      "------------------------------\n",
      "[17:30:00]\n",
      "[Marcos Romero]\n",
      "Assigned to: Fatma Kaya [Assistant Chef]\n",
      "------------------------------\n",
      "[18:00:00]\n",
      "[Anees Java]\n",
      "Assigned to: John Millar [Receptionist]\n",
      "------------------------------\n"
     ]
    }
   ],
   "source": [
    "cursor.execute(query4)\n",
    "results=cursor.fetchall()\n",
    "for r in results:\n",
    "    bookingSlot, Guest_Name, Employee_Name, Employee_role=r\n",
    "    print(f\"[{bookingSlot}]\")\n",
    "    print(f\"[{Guest_Name}]\")\n",
    "    print(f\"Assigned to: {Employee_Name} [{Employee_role}]\")\n",
    "    print(\"-\"*30)"
   ]
  },
  {
   "cell_type": "code",
   "execution_count": 39,
   "id": "0fc7bbe4",
   "metadata": {},
   "outputs": [],
   "source": [
    "cursor.close()\n",
    "connection.close()"
   ]
  }
 ],
 "metadata": {
  "kernelspec": {
   "display_name": "Python 3 (ipykernel)",
   "language": "python",
   "name": "python3"
  },
  "language_info": {
   "codemirror_mode": {
    "name": "ipython",
    "version": 3
   },
   "file_extension": ".py",
   "mimetype": "text/x-python",
   "name": "python",
   "nbconvert_exporter": "python",
   "pygments_lexer": "ipython3",
   "version": "3.11.4"
  }
 },
 "nbformat": 4,
 "nbformat_minor": 5
}
