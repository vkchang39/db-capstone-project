{
 "cells": [
  {
   "cell_type": "code",
   "execution_count": 1,
   "id": "6c03d027-2f02-4ce9-84d8-28a155674b20",
   "metadata": {},
   "outputs": [
    {
     "name": "stdout",
     "output_type": "stream",
     "text": [
      "Requirement already satisfied: mysql-connector-python in c:\\users\\vijay kumar\\appdata\\local\\programs\\python\\python311\\lib\\site-packages (8.1.0)\n",
      "Requirement already satisfied: protobuf<=4.21.12,>=4.21.1 in c:\\users\\vijay kumar\\appdata\\local\\programs\\python\\python311\\lib\\site-packages (from mysql-connector-python) (4.21.12)\n"
     ]
    },
    {
     "name": "stderr",
     "output_type": "stream",
     "text": [
      "\n",
      "[notice] A new release of pip is available: 23.1.2 -> 23.2.1\n",
      "[notice] To update, run: python.exe -m pip install --upgrade pip\n"
     ]
    }
   ],
   "source": [
    "!pip install mysql-connector-python\n"
   ]
  },
  {
   "cell_type": "code",
   "execution_count": 8,
   "id": "7d93ab72-f70e-4391-a588-d8487e82651f",
   "metadata": {},
   "outputs": [],
   "source": [
    "import mysql.connector as connector\n",
    "connection = connector.connect(user = \"capstone\", password = \"1234\", db = \"littlelemondb\")\n"
   ]
  },
  {
   "cell_type": "code",
   "execution_count": 9,
   "id": "462f1b72-4a7d-4d49-833c-a7660c9c2b69",
   "metadata": {},
   "outputs": [
    {
     "name": "stdout",
     "output_type": "stream",
     "text": [
      "[('booking',), ('category',), ('delivery_status',), ('menu',), ('order_item',), ('orders',), ('ordersview',), ('roles',), ('tables',), ('users',), ('users_has_roles',)]\n"
     ]
    }
   ],
   "source": [
    "cursor = connection.cursor()\n",
    "show_tables_query = \"SHOW tables\" \n",
    "cursor.execute(show_tables_query)\n",
    "result = cursor.fetchall()\n",
    "print(result)"
   ]
  },
  {
   "cell_type": "code",
   "execution_count": 11,
   "id": "c6931651-8eed-4666-9559-0f7c39d8fa78",
   "metadata": {},
   "outputs": [
    {
     "name": "stdout",
     "output_type": "stream",
     "text": [
      "[('Vishal Chaurasia', '5377589')]\n"
     ]
    }
   ],
   "source": [
    "query2 = \"\"\"SELECT u.name, u.contact_detail\n",
    "FROM LittleLemonDB.users AS u\n",
    "JOIN LittleLemonDB.users_has_roles AS ur ON u.id = ur.users_id\n",
    "JOIN LittleLemonDB.orders AS o ON u.id = o.users_id\n",
    "WHERE ur.roles_id = 4 \n",
    "  AND o.TotalCost > 60;\"\"\"\n",
    "cursor.execute(query2)\n",
    "result = cursor.fetchall()\n",
    "print(result)"
   ]
  },
  {
   "cell_type": "code",
   "execution_count": null,
   "id": "1751fe2d-51fc-46ef-9626-021ccc613e8a",
   "metadata": {},
   "outputs": [],
   "source": []
  }
 ],
 "metadata": {
  "kernelspec": {
   "display_name": "Python 3 (ipykernel)",
   "language": "python",
   "name": "python3"
  },
  "language_info": {
   "codemirror_mode": {
    "name": "ipython",
    "version": 3
   },
   "file_extension": ".py",
   "mimetype": "text/x-python",
   "name": "python",
   "nbconvert_exporter": "python",
   "pygments_lexer": "ipython3",
   "version": "3.11.0"
  }
 },
 "nbformat": 4,
 "nbformat_minor": 5
}
